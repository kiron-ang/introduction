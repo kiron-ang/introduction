{
  "nbformat": 4,
  "nbformat_minor": 0,
  "metadata": {
    "colab": {
      "provenance": [],
      "authorship_tag": "ABX9TyPHEr70yVLLk9vGzMx8NvNN",
      "include_colab_link": true
    },
    "kernelspec": {
      "name": "python3",
      "display_name": "Python 3"
    },
    "language_info": {
      "name": "python"
    }
  },
  "cells": [
    {
      "cell_type": "markdown",
      "metadata": {
        "id": "view-in-github",
        "colab_type": "text"
      },
      "source": [
        "<a href=\"https://colab.research.google.com/github/kiron-ang/introduction/blob/main/introduction.ipynb\" target=\"_parent\"><img src=\"https://colab.research.google.com/assets/colab-badge.svg\" alt=\"Open In Colab\"/></a>"
      ]
    },
    {
      "cell_type": "code",
      "execution_count": 1,
      "metadata": {
        "colab": {
          "base_uri": "https://localhost:8080/"
        },
        "id": "iXgo7Ela7guJ",
        "outputId": "802fa723-d49a-4879-95f7-0f536c28cac8"
      },
      "outputs": [
        {
          "output_type": "stream",
          "name": "stdout",
          "text": [
            "  % Total    % Received % Xferd  Average Speed   Time    Time     Time  Current\n",
            "                                 Dload  Upload   Total   Spent    Left  Speed\n",
            "100   166  100   166    0     0    690      0 --:--:-- --:--:-- --:--:--   691\n",
            "100   150  100   150    0     0    230      0 --:--:-- --:--:-- --:--:--     0\n",
            "  0     0    0     0    0     0      0      0 --:--:--  0:00:01 --:--:--     0\n",
            "  0     0    0     0    0     0      0      0 --:--:--  0:00:01 --:--:--     0\n",
            "100 4006k  100 4006k    0     0  2329k      0  0:00:01  0:00:01 --:--:-- 39.9M\n"
          ]
        }
      ],
      "source": [
        "# Download the research paper\n",
        "!curl -LO www.nature.com/articles/s41467-025-58369-2.pdf"
      ]
    },
    {
      "cell_type": "code",
      "source": [
        "# Install the SRA toolkit\n",
        "!apt install sra-toolkit > output.txt"
      ],
      "metadata": {
        "colab": {
          "base_uri": "https://localhost:8080/"
        },
        "id": "VU3EdkjAYew-",
        "outputId": "a55debae-ebe1-4933-890d-d4f64a892165"
      },
      "execution_count": 2,
      "outputs": [
        {
          "output_type": "stream",
          "name": "stdout",
          "text": [
            "\n",
            "WARNING: apt does not have a stable CLI interface. Use with caution in scripts.\n",
            "\n"
          ]
        }
      ]
    },
    {
      "cell_type": "code",
      "source": [
        "# Download accession list for transcriptomic single-cell data\n",
        "!curl -LO raw.githubusercontent.com/kiron-ang/introduction/main/accession.txt"
      ],
      "metadata": {
        "colab": {
          "base_uri": "https://localhost:8080/"
        },
        "id": "mwKY5WYCQ54e",
        "outputId": "dfea21fe-6057-44fb-968f-ee2880f8075d"
      },
      "execution_count": 6,
      "outputs": [
        {
          "output_type": "stream",
          "name": "stdout",
          "text": [
            "  % Total    % Received % Xferd  Average Speed   Time    Time     Time  Current\n",
            "                                 Dload  Upload   Total   Spent    Left  Speed\n",
            "  0     0    0     0    0     0      0      0 --:--:-- --:--:-- --:--:--     0\n",
            "100   791  100   791    0     0   2621      0 --:--:-- --:--:-- --:--:-- 10012\n"
          ]
        }
      ]
    },
    {
      "cell_type": "code",
      "source": [
        "import subprocess\n",
        "\n",
        "with open(\"accession.txt\", \"r\") as a:\n",
        "    for line in a:\n",
        "        subprocess.run([\"fastq-dump\", line.strip()])"
      ],
      "metadata": {
        "id": "J4KFQu-0WFdr"
      },
      "execution_count": null,
      "outputs": []
    },
    {
      "cell_type": "code",
      "source": [],
      "metadata": {
        "id": "MjiX7SR3ahAf"
      },
      "execution_count": null,
      "outputs": []
    }
  ]
}