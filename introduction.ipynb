{
  "nbformat": 4,
  "nbformat_minor": 0,
  "metadata": {
    "colab": {
      "provenance": [],
      "authorship_tag": "ABX9TyPHwMSF5BT/l8F2a6/oGRS+",
      "include_colab_link": true
    },
    "kernelspec": {
      "name": "python3",
      "display_name": "Python 3"
    },
    "language_info": {
      "name": "python"
    }
  },
  "cells": [
    {
      "cell_type": "markdown",
      "metadata": {
        "id": "view-in-github",
        "colab_type": "text"
      },
      "source": [
        "<a href=\"https://colab.research.google.com/github/kiron-ang/introduction/blob/main/introduction.ipynb\" target=\"_parent\"><img src=\"https://colab.research.google.com/assets/colab-badge.svg\" alt=\"Open In Colab\"/></a>"
      ]
    },
    {
      "cell_type": "markdown",
      "source": [
        "Hi! My name is Kiron Ang, and I'm so excited to teach you about bioinformatics! This interactive Python notebook contains a tutorial for analyzing single-cell transcriptomic data with Python. You might be wondering why I created this tutorial if other, amazing introductions already exist. Personally, I think it's beneficial to have a tutorial that's smaller in scope, focused on a recent research paper in 2025, and designed to introduce biologists to using Python programming in a Google Colab environment.\n",
        "\n",
        "Before we get started, remember that this tutorial is designed for undergraduate and graduate students that have an interest in bioinformatics. I'm assuming that you have a strong background in biology and a weak background in computer science. If you want to improve your understanding of the biological principles behind single-cell work, please read https://www.sc-best-practices.org. If you want to improve your understanding of Python programming using the popular tool \"Google Colab\", please go to the \"Education\" section at https://colab.google/notebooks. If you have any questions or suggestions, please email me at kiron_ang1@baylor.edu!\n",
        "\n",
        "Today, we'll be taking a look at publicly available data related to this research paper:\n",
        "\n",
        "> Notaro, M., Borghetti, M., Bresesti, C. et al. In vivo armed macrophages curb liver metastasis through tumor-reactive T-cell rejuvenation. Nat Commun 16, 3471 (2025). https://doi.org/10.1038/s41467-025-58369-2\n",
        "\n",
        "This dataset contains CD45⁺ immune cells isolated from mouse livers and liver metastases treated with experimental gene therapy to stimulate anti-tumor immunity. Although that might sound really complicated, I'll show you how to reproduce some of the basic analysis steps that the paper describes so you can understand more about the wonderful world of single-cell data! First, let's download the data; all the data will first be downloaded as a single \".tar\" file. We need to extract the data from the \".tar\" archive to actually work with it.\n",
        "\n",
        "In Google Colab, we can use two types of commands: Bash commands that start with an exclamation mark (!), and Python commands. We have to use some Bash commands to get our workspace set up, but we'll use Python after that. Before doing anything else, we should see if there's anything in our workspace already by using the \"ls\" command; after all, it's important for computational biologists to stay organized!"
      ],
      "metadata": {
        "id": "Tznu4d5IWniS"
      }
    },
    {
      "cell_type": "code",
      "source": [
        "# Print a list of the files we have access to\n",
        "!ls"
      ],
      "metadata": {
        "colab": {
          "base_uri": "https://localhost:8080/"
        },
        "id": "7QAxC_Ohd5TD",
        "outputId": "6772c320-b7b6-4f54-b3bc-1be462227c9d"
      },
      "execution_count": 1,
      "outputs": [
        {
          "output_type": "stream",
          "name": "stdout",
          "text": [
            "sample_data\n"
          ]
        }
      ]
    },
    {
      "cell_type": "markdown",
      "source": [
        "Awesome! The only item in our workspace is a directory called \"sample_data\". Google Colab creates this folder every time you create a new notebook; it has some basic data you can play with, but we don't care about that right now. Now, let's download the actual data we care about with the \"curl\" command."
      ],
      "metadata": {
        "id": "Wmry49oReRbc"
      }
    },
    {
      "cell_type": "code",
      "source": [
        "# Download the data from the research paper\n",
        "# The --remote-name option tells the computer to keep the original file name\n",
        "!curl --remote-name ftp.ncbi.nlm.nih.gov/geo/series/GSE273nnn/GSE273615/suppl/GSE273615_RAW.tar\n",
        "\n",
        "# Print a list of the files we have access to\n",
        "!ls"
      ],
      "metadata": {
        "colab": {
          "base_uri": "https://localhost:8080/"
        },
        "id": "VU3EdkjAYew-",
        "outputId": "c08ed821-9212-4ae5-d337-5b56d21379ec"
      },
      "execution_count": 2,
      "outputs": [
        {
          "output_type": "stream",
          "name": "stdout",
          "text": [
            "  % Total    % Received % Xferd  Average Speed   Time    Time     Time  Current\n",
            "                                 Dload  Upload   Total   Spent    Left  Speed\n",
            "100 3612M  100 3612M    0     0  91.6M      0  0:00:39  0:00:39 --:--:--  101M\n",
            "GSE273615_RAW.tar  sample_data\n"
          ]
        }
      ]
    },
    {
      "cell_type": "markdown",
      "source": [
        "You can see at the bottom of the cell's output that we have a \".tar\" file, in addition to the \"sample_data\" folder. The Python commands I'll show you in a minute can't use \".tar\" files as input data. So, we have to extract the files from the \".tar\" archive with another bash command called \"tar\"."
      ],
      "metadata": {
        "id": "n0ddRQ65feOS"
      }
    },
    {
      "cell_type": "code",
      "source": [
        "# Extract the data from the file that we downloaded\n",
        "# The --extract option tells the computer to extract the files\n",
        "# The --file option tells the computer what file we want to extract\n",
        "!tar --extract --file=GSE273615_RAW.tar"
      ],
      "metadata": {
        "id": "Qj0rFdfBfet9"
      },
      "execution_count": 3,
      "outputs": []
    },
    {
      "cell_type": "markdown",
      "source": [
        "It might seem like nothing happened, but let's take a look at the files in our workspace again."
      ],
      "metadata": {
        "id": "3JjW5pI6dOj8"
      }
    },
    {
      "cell_type": "code",
      "source": [
        "# Print a list of the files we have access to\n",
        "!ls"
      ],
      "metadata": {
        "colab": {
          "base_uri": "https://localhost:8080/"
        },
        "id": "lYimc3b0cUt8",
        "outputId": "fdfd13f5-9bf8-460f-e85f-0b408294cc9f"
      },
      "execution_count": 4,
      "outputs": [
        {
          "output_type": "stream",
          "name": "stdout",
          "text": [
            "GSE273615_RAW.tar\t      GSM8433835_Tumor10-1_GEX.zip\n",
            "GSM8433816_M18.tar.gz\t      GSM8433835_Tumor10-1_VDJ.zip\n",
            "GSM8433817_M21.tar.gz\t      GSM8433836_Liver11-1_GEX.zip\n",
            "GSM8433820_Sample4_GEX.zip    GSM8433836_Liver11-1_VDJ.zip\n",
            "GSM8433820_Sample4_VDJ.zip    GSM8433837_Tumor11_GEX.zip\n",
            "GSM8433821_Sample6_GEX.zip    GSM8433837_Tumor11_VDJ.zip\n",
            "GSM8433821_Sample6_VDJ.zip    GSM8433838_Liver9_GEX.zip\n",
            "GSM8433822_Sample7_GEX.zip    GSM8433838_Liver9_VDJ.zip\n",
            "GSM8433822_Sample7_VDJ.zip    GSM8433839_Liver9-1_GEX.zip\n",
            "GSM8433823_Sample9_GEX.zip    GSM8433839_Liver9-1_VDJ.zip\n",
            "GSM8433823_Sample9_VDJ.zip    GSM8433840_Tumor34_GEX.zip\n",
            "GSM8433828_Liver3_VDJ.zip     GSM8433840_Tumor34_VDJ.zip\n",
            "GSM8433829_Liver3-1_GEX.zip   GSM8433841_Tumor29_GEX.zip\n",
            "GSM8433829_Liver3-1_VDJ.zip   GSM8433841_Tumor29_VDJ.zip\n",
            "GSM8433830_Tumor3_GEX.zip     GSM8433842_Liver1_GEX.zip\n",
            "GSM8433830_Tumor3_VDJ.zip     GSM8433842_Liver1_VDJ.zip\n",
            "GSM8433831_Tumor3-1_GEX.zip   GSM8433843_Tumor1_GEX.zip\n",
            "GSM8433831_Tumor3-1_VDJ.zip   GSM8433843_Tumor1_VDJ.zip\n",
            "GSM8433832_Liver10_GEX.zip    GSM8433844_Liver18_GEX.zip\n",
            "GSM8433832_Liver10_VDJ.zip    GSM8433844_Liver18_VDJ.zip\n",
            "GSM8433833_Liver10-1_GEX.zip  GSM8433845_Tumor18_GEX.zip\n",
            "GSM8433833_Liver10-1_VDJ.zip  GSM8433845_Tumor18_VDJ.zip\n",
            "GSM8433834_Tumor10_GEX.zip    sample_data\n",
            "GSM8433834_Tumor10_VDJ.zip\n"
          ]
        }
      ]
    },
    {
      "cell_type": "markdown",
      "source": [
        "There are 21 \".zip\" files in our workspace; we can't use these either, unfortunatley. However, these \".zip\" archives contain even more files. We can extract them with the \"unzip\" command. Below, I use a single \"unzip\" for every single \"GEX.zip\" file."
      ],
      "metadata": {
        "id": "eADI4KkzdWZV"
      }
    },
    {
      "cell_type": "code",
      "source": [
        "# Unzip the important data files\n",
        "# The -d option tells the computer to put the extracted information into a separate directory\n",
        "!unzip GSM8433820_Sample4_GEX.zip -d Sample4\n",
        "!unzip GSM8433821_Sample6_GEX.zip -d Sample6\n",
        "!unzip GSM8433822_Sample7_GEX.zip -d Sample7\n",
        "!unzip GSM8433823_Sample9_GEX.zip -d Sample9\n",
        "!unzip GSM8433829_Liver3-1_GEX.zip -d Liver3-1\n",
        "!unzip GSM8433832_Liver10_GEX.zip -d Liver10\n",
        "!unzip GSM8433833_Liver10-1_GEX.zip -d Liver10-1\n",
        "!unzip GSM8433836_Liver11-1_GEX.zip -d Liver11-1\n",
        "!unzip GSM8433838_Liver9_GEX.zip -d Liver9\n",
        "!unzip GSM8433839_Liver9-1_GEX.zip -d Liver9-1\n",
        "!unzip GSM8433842_Liver1_GEX.zip -d Liver1\n",
        "!unzip GSM8433844_Liver18_GEX.zip -d Liver18\n",
        "!unzip GSM8433830_Tumor3_GEX.zip -d Tumor3\n",
        "!unzip GSM8433831_Tumor3-1_GEX.zip -d Tumor3-1\n",
        "!unzip GSM8433834_Tumor10_GEX.zip -d Tumor10\n",
        "!unzip GSM8433835_Tumor10-1_GEX.zip -d Tumor10-1\n",
        "!unzip GSM8433837_Tumor11_GEX.zip -d Tumor11\n",
        "!unzip GSM8433843_Tumor1_GEX.zip -d Tumor1\n",
        "!unzip GSM8433845_Tumor18_GEX.zip -d Tumor18\n",
        "!unzip GSM8433841_Tumor29_GEX.zip -d Tumor29\n",
        "!unzip GSM8433840_Tumor34_GEX.zip -d Tumor34"
      ],
      "metadata": {
        "colab": {
          "base_uri": "https://localhost:8080/"
        },
        "id": "wjlx1ypddl_w",
        "outputId": "22926469-296d-42b1-9a81-02c1452d34f3"
      },
      "execution_count": 5,
      "outputs": [
        {
          "output_type": "stream",
          "name": "stdout",
          "text": [
            "Archive:  GSM8433820_Sample4_GEX.zip\n",
            "  inflating: Sample4/barcodes.tsv.gz  \n",
            "  inflating: Sample4/__MACOSX/._barcodes.tsv.gz  \n",
            "  inflating: Sample4/features.tsv.gz  \n",
            "  inflating: Sample4/__MACOSX/._features.tsv.gz  \n",
            "  inflating: Sample4/matrix.mtx.gz   \n",
            "  inflating: Sample4/__MACOSX/._matrix.mtx.gz  \n",
            "Archive:  GSM8433821_Sample6_GEX.zip\n",
            "  inflating: Sample6/barcodes.tsv.gz  \n",
            "  inflating: Sample6/__MACOSX/._barcodes.tsv.gz  \n",
            "  inflating: Sample6/features.tsv.gz  \n",
            "  inflating: Sample6/__MACOSX/._features.tsv.gz  \n",
            "  inflating: Sample6/matrix.mtx.gz   \n",
            "  inflating: Sample6/__MACOSX/._matrix.mtx.gz  \n",
            "Archive:  GSM8433822_Sample7_GEX.zip\n",
            "  inflating: Sample7/barcodes.tsv.gz  \n",
            "  inflating: Sample7/__MACOSX/._barcodes.tsv.gz  \n",
            "  inflating: Sample7/features.tsv.gz  \n",
            "  inflating: Sample7/__MACOSX/._features.tsv.gz  \n",
            "  inflating: Sample7/matrix.mtx.gz   \n",
            "  inflating: Sample7/__MACOSX/._matrix.mtx.gz  \n",
            "Archive:  GSM8433823_Sample9_GEX.zip\n",
            "  inflating: Sample9/barcodes.tsv.gz  \n",
            "  inflating: Sample9/__MACOSX/._barcodes.tsv.gz  \n",
            "  inflating: Sample9/features.tsv.gz  \n",
            "  inflating: Sample9/__MACOSX/._features.tsv.gz  \n",
            "  inflating: Sample9/matrix.mtx.gz   \n",
            "  inflating: Sample9/__MACOSX/._matrix.mtx.gz  \n",
            "Archive:  GSM8433829_Liver3-1_GEX.zip\n",
            "  inflating: Liver3-1/barcodes.tsv.gz  \n",
            "  inflating: Liver3-1/__MACOSX/._barcodes.tsv.gz  \n",
            "  inflating: Liver3-1/features.tsv.gz  \n",
            "  inflating: Liver3-1/__MACOSX/._features.tsv.gz  \n",
            "  inflating: Liver3-1/matrix.mtx.gz  \n",
            "  inflating: Liver3-1/__MACOSX/._matrix.mtx.gz  \n",
            "Archive:  GSM8433832_Liver10_GEX.zip\n",
            "  inflating: Liver10/barcodes.tsv.gz  \n",
            "  inflating: Liver10/__MACOSX/._barcodes.tsv.gz  \n",
            "  inflating: Liver10/features.tsv.gz  \n",
            "  inflating: Liver10/__MACOSX/._features.tsv.gz  \n",
            "  inflating: Liver10/matrix.mtx.gz   \n",
            "  inflating: Liver10/__MACOSX/._matrix.mtx.gz  \n",
            "Archive:  GSM8433833_Liver10-1_GEX.zip\n",
            "  inflating: Liver10-1/barcodes.tsv.gz  \n",
            "  inflating: Liver10-1/__MACOSX/._barcodes.tsv.gz  \n",
            "  inflating: Liver10-1/features.tsv.gz  \n",
            "  inflating: Liver10-1/__MACOSX/._features.tsv.gz  \n",
            "  inflating: Liver10-1/matrix.mtx.gz  \n",
            "  inflating: Liver10-1/__MACOSX/._matrix.mtx.gz  \n",
            "Archive:  GSM8433836_Liver11-1_GEX.zip\n",
            "  inflating: Liver11-1/barcodes.tsv.gz  \n",
            "  inflating: Liver11-1/__MACOSX/._barcodes.tsv.gz  \n",
            "  inflating: Liver11-1/features.tsv.gz  \n",
            "  inflating: Liver11-1/__MACOSX/._features.tsv.gz  \n",
            "  inflating: Liver11-1/matrix.mtx.gz  \n",
            "  inflating: Liver11-1/__MACOSX/._matrix.mtx.gz  \n",
            "Archive:  GSM8433838_Liver9_GEX.zip\n",
            "  inflating: Liver9/barcodes.tsv.gz  \n",
            "  inflating: Liver9/__MACOSX/._barcodes.tsv.gz  \n",
            "  inflating: Liver9/features.tsv.gz  \n",
            "  inflating: Liver9/__MACOSX/._features.tsv.gz  \n",
            "  inflating: Liver9/matrix.mtx.gz    \n",
            "  inflating: Liver9/__MACOSX/._matrix.mtx.gz  \n",
            "Archive:  GSM8433839_Liver9-1_GEX.zip\n",
            "  inflating: Liver9-1/barcodes.tsv.gz  \n",
            "  inflating: Liver9-1/__MACOSX/._barcodes.tsv.gz  \n",
            "  inflating: Liver9-1/features.tsv.gz  \n",
            "  inflating: Liver9-1/__MACOSX/._features.tsv.gz  \n",
            "  inflating: Liver9-1/matrix.mtx.gz  \n",
            "  inflating: Liver9-1/__MACOSX/._matrix.mtx.gz  \n",
            "Archive:  GSM8433842_Liver1_GEX.zip\n",
            "  inflating: Liver1/barcodes.tsv.gz  \n",
            "  inflating: Liver1/__MACOSX/._barcodes.tsv.gz  \n",
            "  inflating: Liver1/features.tsv.gz  \n",
            "  inflating: Liver1/__MACOSX/._features.tsv.gz  \n",
            "  inflating: Liver1/matrix.mtx.gz    \n",
            "  inflating: Liver1/__MACOSX/._matrix.mtx.gz  \n",
            "Archive:  GSM8433844_Liver18_GEX.zip\n",
            "  inflating: Liver18/barcodes.tsv.gz  \n",
            "  inflating: Liver18/__MACOSX/._barcodes.tsv.gz  \n",
            "  inflating: Liver18/features.tsv.gz  \n",
            "  inflating: Liver18/__MACOSX/._features.tsv.gz  \n",
            "  inflating: Liver18/matrix.mtx.gz   \n",
            "  inflating: Liver18/__MACOSX/._matrix.mtx.gz  \n",
            "Archive:  GSM8433830_Tumor3_GEX.zip\n",
            "  inflating: Tumor3/barcodes.tsv.gz  \n",
            "  inflating: Tumor3/__MACOSX/._barcodes.tsv.gz  \n",
            "  inflating: Tumor3/features.tsv.gz  \n",
            "  inflating: Tumor3/__MACOSX/._features.tsv.gz  \n",
            "  inflating: Tumor3/matrix.mtx.gz    \n",
            "  inflating: Tumor3/__MACOSX/._matrix.mtx.gz  \n",
            "Archive:  GSM8433831_Tumor3-1_GEX.zip\n",
            "  inflating: Tumor3-1/barcodes.tsv.gz  \n",
            "  inflating: Tumor3-1/__MACOSX/._barcodes.tsv.gz  \n",
            "  inflating: Tumor3-1/features.tsv.gz  \n",
            "  inflating: Tumor3-1/__MACOSX/._features.tsv.gz  \n",
            "  inflating: Tumor3-1/matrix.mtx.gz  \n",
            "  inflating: Tumor3-1/__MACOSX/._matrix.mtx.gz  \n",
            "Archive:  GSM8433834_Tumor10_GEX.zip\n",
            "  inflating: Tumor10/barcodes.tsv.gz  \n",
            "  inflating: Tumor10/__MACOSX/._barcodes.tsv.gz  \n",
            "  inflating: Tumor10/features.tsv.gz  \n",
            "  inflating: Tumor10/__MACOSX/._features.tsv.gz  \n",
            "  inflating: Tumor10/matrix.mtx.gz   \n",
            "  inflating: Tumor10/__MACOSX/._matrix.mtx.gz  \n",
            "Archive:  GSM8433835_Tumor10-1_GEX.zip\n",
            "  inflating: Tumor10-1/barcodes.tsv.gz  \n",
            "  inflating: Tumor10-1/__MACOSX/._barcodes.tsv.gz  \n",
            "  inflating: Tumor10-1/features.tsv.gz  \n",
            "  inflating: Tumor10-1/__MACOSX/._features.tsv.gz  \n",
            "  inflating: Tumor10-1/matrix.mtx.gz  \n",
            "  inflating: Tumor10-1/__MACOSX/._matrix.mtx.gz  \n",
            "Archive:  GSM8433837_Tumor11_GEX.zip\n",
            "  inflating: Tumor11/barcodes.tsv.gz  \n",
            "  inflating: Tumor11/__MACOSX/._barcodes.tsv.gz  \n",
            "  inflating: Tumor11/features.tsv.gz  \n",
            "  inflating: Tumor11/__MACOSX/._features.tsv.gz  \n",
            "  inflating: Tumor11/matrix.mtx.gz   \n",
            "  inflating: Tumor11/__MACOSX/._matrix.mtx.gz  \n",
            "Archive:  GSM8433843_Tumor1_GEX.zip\n",
            "  inflating: Tumor1/barcodes.tsv.gz  \n",
            "  inflating: Tumor1/__MACOSX/._barcodes.tsv.gz  \n",
            "  inflating: Tumor1/features.tsv.gz  \n",
            "  inflating: Tumor1/__MACOSX/._features.tsv.gz  \n",
            "  inflating: Tumor1/matrix.mtx.gz    \n",
            "  inflating: Tumor1/__MACOSX/._matrix.mtx.gz  \n",
            "Archive:  GSM8433845_Tumor18_GEX.zip\n",
            "  inflating: Tumor18/barcodes.tsv.gz  \n",
            "  inflating: Tumor18/__MACOSX/._barcodes.tsv.gz  \n",
            "  inflating: Tumor18/features.tsv.gz  \n",
            "  inflating: Tumor18/__MACOSX/._features.tsv.gz  \n",
            "  inflating: Tumor18/matrix.mtx.gz   \n",
            "  inflating: Tumor18/__MACOSX/._matrix.mtx.gz  \n",
            "Archive:  GSM8433841_Tumor29_GEX.zip\n",
            "  inflating: Tumor29/barcodes.tsv.gz  \n",
            "  inflating: Tumor29/__MACOSX/._barcodes.tsv.gz  \n",
            "  inflating: Tumor29/features.tsv.gz  \n",
            "  inflating: Tumor29/__MACOSX/._features.tsv.gz  \n",
            "  inflating: Tumor29/matrix.mtx.gz   \n",
            "  inflating: Tumor29/__MACOSX/._matrix.mtx.gz  \n",
            "Archive:  GSM8433840_Tumor34_GEX.zip\n",
            "  inflating: Tumor34/barcodes.tsv.gz  \n",
            "  inflating: Tumor34/__MACOSX/._barcodes.tsv.gz  \n",
            "  inflating: Tumor34/features.tsv.gz  \n",
            "  inflating: Tumor34/__MACOSX/._features.tsv.gz  \n",
            "  inflating: Tumor34/matrix.mtx.gz   \n",
            "  inflating: Tumor34/__MACOSX/._matrix.mtx.gz  \n"
          ]
        }
      ]
    },
    {
      "cell_type": "markdown",
      "source": [
        "Those \"barcodes.tsv.gz\", \"features.tsv.gz\", and \"matrix.mtz.gz\" files are exactly what we need! Now, let's use the \"pip\" command to install a Python software tool for analyzing single-cell data."
      ],
      "metadata": {
        "id": "YzoDyF6DjeOf"
      }
    },
    {
      "cell_type": "code",
      "source": [
        "# Install Scanpy (scanpy.readthedocs.io)\n",
        "# The --quiet option tells the computer to be \"quiet\" and only give us important messages\n",
        "!pip install --quiet scanpy"
      ],
      "metadata": {
        "colab": {
          "base_uri": "https://localhost:8080/"
        },
        "id": "hllUPnaYjebF",
        "outputId": "b20d3090-a8ca-429c-f239-fb2750925f00"
      },
      "execution_count": 6,
      "outputs": [
        {
          "output_type": "stream",
          "name": "stdout",
          "text": [
            "\u001b[?25l   \u001b[90m━━━━━━━━━━━━━━━━━━━━━━━━━━━━━━━━━━━━━━━━\u001b[0m \u001b[32m0.0/2.1 MB\u001b[0m \u001b[31m?\u001b[0m eta \u001b[36m-:--:--\u001b[0m\r\u001b[2K   \u001b[91m━━━━━\u001b[0m\u001b[90m╺\u001b[0m\u001b[90m━━━━━━━━━━━━━━━━━━━━━━━━━━━━━━━━━━\u001b[0m \u001b[32m0.3/2.1 MB\u001b[0m \u001b[31m8.0 MB/s\u001b[0m eta \u001b[36m0:00:01\u001b[0m\r\u001b[2K   \u001b[91m━━━━━━━━━━━━━━━━━━━━━━━━━━\u001b[0m\u001b[90m╺\u001b[0m\u001b[90m━━━━━━━━━━━━━\u001b[0m \u001b[32m1.4/2.1 MB\u001b[0m \u001b[31m19.8 MB/s\u001b[0m eta \u001b[36m0:00:01\u001b[0m\r\u001b[2K   \u001b[90m━━━━━━━━━━━━━━━━━━━━━━━━━━━━━━━━━━━━━━━━\u001b[0m \u001b[32m2.1/2.1 MB\u001b[0m \u001b[31m22.8 MB/s\u001b[0m eta \u001b[36m0:00:00\u001b[0m\n",
            "\u001b[2K   \u001b[90m━━━━━━━━━━━━━━━━━━━━━━━━━━━━━━━━━━━━━━━━\u001b[0m \u001b[32m144.5/144.5 kB\u001b[0m \u001b[31m15.2 MB/s\u001b[0m eta \u001b[36m0:00:00\u001b[0m\n",
            "\u001b[2K   \u001b[90m━━━━━━━━━━━━━━━━━━━━━━━━━━━━━━━━━━━━━━━━\u001b[0m \u001b[32m13.3/13.3 MB\u001b[0m \u001b[31m102.2 MB/s\u001b[0m eta \u001b[36m0:00:00\u001b[0m\n",
            "\u001b[2K   \u001b[90m━━━━━━━━━━━━━━━━━━━━━━━━━━━━━━━━━━━━━━━━\u001b[0m \u001b[32m53.1/53.1 kB\u001b[0m \u001b[31m5.4 MB/s\u001b[0m eta \u001b[36m0:00:00\u001b[0m\n",
            "\u001b[?25h"
          ]
        }
      ]
    },
    {
      "cell_type": "markdown",
      "source": [
        "The tool we installed is Scanpy. Scanpy comes with a lot of fun Python commands for analyzing single-cell data, but before we can use those commands, we have to use the \"import\" command. Let's import Scanpy and print out the version number."
      ],
      "metadata": {
        "id": "QEGDqDWTaOT7"
      }
    },
    {
      "cell_type": "code",
      "source": [
        "# Import Scanpy so we can use Scanpy commands alongside Python\n",
        "import scanpy\n",
        "\n",
        "# Print the Scanpy version that is currently being used\n",
        "print(scanpy.__version__)"
      ],
      "metadata": {
        "colab": {
          "base_uri": "https://localhost:8080/"
        },
        "id": "NPJD2hb0YcWV",
        "outputId": "db8cfe5d-ee84-4638-d79d-6515f6365547"
      },
      "execution_count": 7,
      "outputs": [
        {
          "output_type": "stream",
          "name": "stdout",
          "text": [
            "1.11.1\n"
          ]
        }
      ]
    },
    {
      "cell_type": "markdown",
      "source": [
        "Next, we have to tell Scanpy where all of our single-cell data is. We can use the \"read_10x_mtx()\" function 21 times to read the data from the 21 directories we created earlier with the \"unzip\" command."
      ],
      "metadata": {
        "id": "4xD0-gMMw5uX"
      }
    },
    {
      "cell_type": "code",
      "source": [
        "# Give Scanpy access to the data\n",
        "# The read_10_mtx() function \"reads\" in the data contained in a directory\n",
        "# So, since we have 21 directories, we need to repeat the command 21 times\n",
        "# The \"=\" symbol allows us to give a name to each dataset, so we can stay organized\n",
        "Sample4 = scanpy.read_10x_mtx(\"Sample4\")\n",
        "Sample6 = scanpy.read_10x_mtx(\"Sample6\")\n",
        "Sample7 = scanpy.read_10x_mtx(\"Sample7\")\n",
        "Sample9 = scanpy.read_10x_mtx(\"Sample9\")\n",
        "Liver3_1 = scanpy.read_10x_mtx(\"Liver3-1\")\n",
        "Liver10 = scanpy.read_10x_mtx(\"Liver10\")\n",
        "Liver10_1 = scanpy.read_10x_mtx(\"Liver10-1\")\n",
        "Liver11_1 = scanpy.read_10x_mtx(\"Liver11-1\")\n",
        "Liver9 = scanpy.read_10x_mtx(\"Liver9\")\n",
        "Liver9_1 = scanpy.read_10x_mtx(\"Liver9-1\")\n",
        "Liver1 = scanpy.read_10x_mtx(\"Liver1\")\n",
        "Liver18 = scanpy.read_10x_mtx(\"Liver18\")\n",
        "Tumor3 = scanpy.read_10x_mtx(\"Tumor3\")\n",
        "Tumor3_1 = scanpy.read_10x_mtx(\"Tumor3-1\")\n",
        "Tumor10 = scanpy.read_10x_mtx(\"Tumor10\")\n",
        "Tumor10_1 = scanpy.read_10x_mtx(\"Tumor10-1\")\n",
        "Tumor11 = scanpy.read_10x_mtx(\"Tumor11\")\n",
        "Tumor1 = scanpy.read_10x_mtx(\"Tumor1\")\n",
        "Tumor18 = scanpy.read_10x_mtx(\"Tumor18\")\n",
        "Tumor29 = scanpy.read_10x_mtx(\"Tumor29\")\n",
        "Tumor34 = scanpy.read_10x_mtx(\"Tumor34\")"
      ],
      "metadata": {
        "id": "b2OoeB92w1gv"
      },
      "execution_count": 8,
      "outputs": []
    },
    {
      "cell_type": "markdown",
      "source": [
        "We can use the \"print()\" function to learn more about each dataset."
      ],
      "metadata": {
        "id": "jqaSVLWNK8Wm"
      }
    },
    {
      "cell_type": "code",
      "source": [
        "# Print information about the different datasets\n",
        "print(Sample4)\n",
        "print(Sample6)\n",
        "print(Sample7)\n",
        "print(Sample9)\n",
        "print(Liver3_1)\n",
        "print(Liver10)\n",
        "print(Liver10_1)\n",
        "print(Liver11_1)\n",
        "print(Liver9)\n",
        "print(Liver9_1)\n",
        "print(Liver1)\n",
        "print(Liver18)\n",
        "print(Tumor3)\n",
        "print(Tumor3_1)\n",
        "print(Tumor10)\n",
        "print(Tumor10_1)\n",
        "print(Tumor11)\n",
        "print(Tumor1)\n",
        "print(Tumor18)\n",
        "print(Tumor29)\n",
        "print(Tumor34)"
      ],
      "metadata": {
        "colab": {
          "base_uri": "https://localhost:8080/"
        },
        "id": "XQHrs4a7P9ay",
        "outputId": "9d3f9fa4-eddb-4efd-ec53-37d882400341"
      },
      "execution_count": 9,
      "outputs": [
        {
          "output_type": "stream",
          "name": "stdout",
          "text": [
            "AnnData object with n_obs × n_vars = 13975 × 32285\n",
            "    var: 'gene_ids', 'feature_types'\n",
            "AnnData object with n_obs × n_vars = 6447 × 32285\n",
            "    var: 'gene_ids', 'feature_types'\n",
            "AnnData object with n_obs × n_vars = 5322 × 32285\n",
            "    var: 'gene_ids', 'feature_types'\n",
            "AnnData object with n_obs × n_vars = 4876 × 32285\n",
            "    var: 'gene_ids', 'feature_types'\n",
            "AnnData object with n_obs × n_vars = 10262 × 32285\n",
            "    var: 'gene_ids', 'feature_types'\n",
            "AnnData object with n_obs × n_vars = 8191 × 32285\n",
            "    var: 'gene_ids', 'feature_types'\n",
            "AnnData object with n_obs × n_vars = 7715 × 32285\n",
            "    var: 'gene_ids', 'feature_types'\n",
            "AnnData object with n_obs × n_vars = 10285 × 32285\n",
            "    var: 'gene_ids', 'feature_types'\n",
            "AnnData object with n_obs × n_vars = 8036 × 32285\n",
            "    var: 'gene_ids', 'feature_types'\n",
            "AnnData object with n_obs × n_vars = 6630 × 32285\n",
            "    var: 'gene_ids', 'feature_types'\n",
            "AnnData object with n_obs × n_vars = 17858 × 32285\n",
            "    var: 'gene_ids', 'feature_types'\n",
            "AnnData object with n_obs × n_vars = 16330 × 32285\n",
            "    var: 'gene_ids', 'feature_types'\n",
            "AnnData object with n_obs × n_vars = 12399 × 32285\n",
            "    var: 'gene_ids', 'feature_types'\n",
            "AnnData object with n_obs × n_vars = 12407 × 32285\n",
            "    var: 'gene_ids', 'feature_types'\n",
            "AnnData object with n_obs × n_vars = 9588 × 32285\n",
            "    var: 'gene_ids', 'feature_types'\n",
            "AnnData object with n_obs × n_vars = 15412 × 32285\n",
            "    var: 'gene_ids', 'feature_types'\n",
            "AnnData object with n_obs × n_vars = 21453 × 32285\n",
            "    var: 'gene_ids', 'feature_types'\n",
            "AnnData object with n_obs × n_vars = 19701 × 32285\n",
            "    var: 'gene_ids', 'feature_types'\n",
            "AnnData object with n_obs × n_vars = 17486 × 32285\n",
            "    var: 'gene_ids', 'feature_types'\n",
            "AnnData object with n_obs × n_vars = 7423 × 32285\n",
            "    var: 'gene_ids', 'feature_types'\n",
            "AnnData object with n_obs × n_vars = 6164 × 32285\n",
            "    var: 'gene_ids', 'feature_types'\n"
          ]
        }
      ]
    },
    {
      "cell_type": "markdown",
      "source": [
        "\"AnnData object\" is the type of data structure that Scanpy uses to organize data. \"n_obs\" refers to the number of individual, separate cells in the dataset, while \"n_vars\" refers to different measurements taken from each cell. If you want to learn more about AnnData objects, please read Scanpy's documentation at https://scanpy.readthedocs.io. Also, remember to read https://www.sc-best-practices.org for any general questions on single-cell.\n",
        "\n",
        "Now, we're finally done with preparing our workspace! Great job on making it this far! The next step is to take the English sentences in the paper and translate them into Python code. For example, one of the sentences in the \"Methods\" section is:\n",
        "\n",
        "> The resulting data was imported into R and processed with the Seurat package (v5.0.1).\n",
        "\n",
        "By preparing our workspace, we've already imported the data into Python and processed it with Scanpy. \"Seurat\" is the name of a popular single-cell library written in the R programming language. I'm not going to discuss Seurat because it's beyond the scope of this tutorial, but read https://github.com/satijalab/seurat for more information.\n",
        "\n",
        "The next sentence is this:\n",
        "\n",
        "> All samples were merged into a single object and processed to remove cells with a low sequencing quality, those with a feature count below 600 and above 9000, as well as cells with a fraction of mitochondrial genes higher than 10 %.\n",
        "\n",
        "We can use some Python commands to replicate this. However, instead of merging all samples, let's focus on one."
      ],
      "metadata": {
        "id": "_lloL_XLQFNr"
      }
    },
    {
      "cell_type": "code",
      "source": [
        "# Print information\n",
        "print(Tumor1)\n",
        "\n",
        "# Remove cells with a feature count below 600\n",
        "scanpy.pp.filter_cells(Tumor1, min_counts=600)\n",
        "\n",
        "# Remove cells with a feature count above 9000\n",
        "scanpy.pp.filter_cells(Tumor1, max_counts=9000)\n",
        "\n",
        "# Remove cells with a fraction of mitochondrial genes higher than 10%\n",
        "Tumor1.var[\"mitochondrial_genes\"] = Tumor1.var_names.str.startswith(\"mt-\")\n",
        "scanpy.pp.calculate_qc_metrics(Tumor1, qc_vars=[\"mitochondrial_genes\"], inplace=True)\n",
        "Tumor1 = Tumor1[Tumor1.obs.pct_counts_mitochondrial_genes < 0.1, :]\n",
        "\n",
        "# Print information\n",
        "print(Tumor1)"
      ],
      "metadata": {
        "colab": {
          "base_uri": "https://localhost:8080/"
        },
        "id": "bL7pdukRv-fB",
        "outputId": "398ccb92-a417-42a4-dc5c-4b0c9c229c64"
      },
      "execution_count": 10,
      "outputs": [
        {
          "output_type": "stream",
          "name": "stdout",
          "text": [
            "AnnData object with n_obs × n_vars = 19701 × 32285\n",
            "    var: 'gene_ids', 'feature_types'\n",
            "View of AnnData object with n_obs × n_vars = 404 × 32285\n",
            "    obs: 'n_counts', 'n_genes_by_counts', 'log1p_n_genes_by_counts', 'total_counts', 'log1p_total_counts', 'pct_counts_in_top_50_genes', 'pct_counts_in_top_100_genes', 'pct_counts_in_top_200_genes', 'pct_counts_in_top_500_genes', 'total_counts_mitochondrial_genes', 'log1p_total_counts_mitochondrial_genes', 'pct_counts_mitochondrial_genes'\n",
            "    var: 'gene_ids', 'feature_types', 'mitochondrial_genes', 'n_cells_by_counts', 'mean_counts', 'log1p_mean_counts', 'pct_dropout_by_counts', 'total_counts', 'log1p_total_counts'\n"
          ]
        }
      ]
    },
    {
      "cell_type": "markdown",
      "source": [
        "We filtered out a lot of cells! A challenge for you is to add more print statements to figure out how many cells each Python command filtered out. Let's focus on visualizing the data now. According to the study, the authors used a UMAP representation:\n",
        "\n",
        "> A principal component (PC) analysis with 100 PCs was performed for dimensional reduction, and afterwards, we computed a UMAP representation using the top 35 PCs."
      ],
      "metadata": {
        "id": "r0CkAe2XGRg_"
      }
    },
    {
      "cell_type": "code",
      "source": [
        "# Perform principal component analysis\n",
        "scanpy.pp.pca(Tumor1, n_comps=100)\n",
        "\n",
        "# Compute nearest neighbors\n",
        "# This step is required before actually creating a UMAP\n",
        "scanpy.pp.neighbors(Tumor1)\n",
        "\n",
        "# Compute a UMAP representation\n",
        "scanpy.tl.umap(Tumor1, n_components=35)\n",
        "\n",
        "# Display the UMAP\n",
        "scanpy.pl.umap(Tumor1)"
      ],
      "metadata": {
        "colab": {
          "base_uri": "https://localhost:8080/",
          "height": 426
        },
        "id": "kG9kSm2lGfdC",
        "outputId": "e07eb6e0-c965-4665-c2ef-04c8b4409f66"
      },
      "execution_count": 14,
      "outputs": [
        {
          "output_type": "display_data",
          "data": {
            "text/plain": [
              "<Figure size 640x480 with 1 Axes>"
            ],
            "image/png": "[encoded data removed]"
          },
          "metadata": {}
        }
      ]
    }
  ]
}