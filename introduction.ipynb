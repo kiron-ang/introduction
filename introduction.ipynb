{
  "nbformat": 4,
  "nbformat_minor": 0,
  "metadata": {
    "colab": {
      "provenance": [],
      "authorship_tag": "ABX9TyMAUBuvtNfcKwCT+ye6ypKi",
      "include_colab_link": true
    },
    "kernelspec": {
      "name": "python3",
      "display_name": "Python 3"
    },
    "language_info": {
      "name": "python"
    }
  },
  "cells": [
    {
      "cell_type": "markdown",
      "metadata": {
        "id": "view-in-github",
        "colab_type": "text"
      },
      "source": [
        "<a href=\"https://colab.research.google.com/github/kiron-ang/introduction/blob/main/introduction.ipynb\" target=\"_parent\"><img src=\"https://colab.research.google.com/assets/colab-badge.svg\" alt=\"Open In Colab\"/></a>"
      ]
    },
    {
      "cell_type": "code",
      "source": [
        "# Connect to a local runtime\n",
        "# Make sure to open this notebook on Google Colab\n",
        "# Open a terminal on your device and run \"uv init --python=3.12.9\"\n",
        "# Then, run \"uv add notebook && uv run jupyter notebook\"\n",
        "# On Google Colab, go to the top right \"Connect\" button\n",
        "# Connect to a local runtime with your own backend URL\n",
        "# After connecting, run this cell\n",
        "!uv add scanpy"
      ],
      "metadata": {
        "id": "-wXNSfPaP5My"
      },
      "execution_count": null,
      "outputs": []
    },
    {
      "cell_type": "code",
      "execution_count": 7,
      "metadata": {
        "colab": {
          "base_uri": "https://localhost:8080/"
        },
        "id": "iXgo7Ela7guJ",
        "outputId": "f90c1182-3210-456d-c3a7-b5f4a84bc0c9"
      },
      "outputs": [
        {
          "output_type": "stream",
          "name": "stdout",
          "text": [
            "  % Total    % Received % Xferd  Average Speed   Time    Time     Time  Current\r\n",
            "                                 Dload  Upload   Total   Spent    Left  Speed\n",
            "100   166  100   166    0     0     32      0  0:00:05  0:00:05 --:--:--    41\n",
            "100   150  100   150    0     0     28      0  0:00:05  0:00:05 --:--:--    28\n",
            "  0     0    0     0    0     0      0      0 --:--:--  0:00:05 --:--:--     0\n",
            "  0     0    0     0    0     0      0      0 --:--:--  0:00:05 --:--:--     0\n",
            "100 4006k  100 4006k    0     0   648k      0  0:00:06  0:00:06 --:--:-- 10.9M\n"
          ]
        }
      ],
      "source": [
        "# Download the research paper\n",
        "# Read the paper before starting this tutorial\n",
        "!curl -LO www.nature.com/articles/s41467-025-58369-2.pdf"
      ]
    },
    {
      "cell_type": "code",
      "source": [
        "# Download the SRA Toolkit\n",
        "# Read more about it at github.com/ncbi/sra-tools\n",
        "!curl -LO ftp-trace.ncbi.nlm.nih.gov/sra/sdk/3.2.1/sratoolkit.3.2.1-ubuntu64.tar.gz"
      ],
      "metadata": {
        "colab": {
          "base_uri": "https://localhost:8080/"
        },
        "id": "8jelS8_YPMsD",
        "outputId": "09c37e87-3d69-4ec2-c79c-b166a8a5a01a"
      },
      "execution_count": 8,
      "outputs": [
        {
          "output_type": "stream",
          "name": "stdout",
          "text": [
            "  % Total    % Received % Xferd  Average Speed   Time    Time     Time  Current\r\n",
            "                                 Dload  Upload   Total   Spent    Left  Speed\n",
            "100   289  100   289    0     0   2585      0 --:--:-- --:--:-- --:--:--  2603\n",
            "100 88.0M  100 88.0M    0     0  1711k      0  0:00:52  0:00:52 --:--:-- 1695k\n"
          ]
        }
      ]
    },
    {
      "cell_type": "code",
      "source": [],
      "metadata": {
        "id": "mwKY5WYCQ54e"
      },
      "execution_count": null,
      "outputs": []
    },
    {
      "cell_type": "code",
      "source": [
        "# Import scanpy\n",
        "# Read the documentation at scanpy.readthedocs.io\n",
        "import scanpy"
      ],
      "metadata": {
        "colab": {
          "base_uri": "https://localhost:8080/"
        },
        "id": "Xhel8yXXILot",
        "outputId": "eab5060b-0ed6-439d-fc5a-0515afd6e449"
      },
      "execution_count": 5,
      "outputs": [
        {
          "output_type": "stream",
          "name": "stderr",
          "text": [
            "/home/k/Downloads/.venv/lib/python3.12/site-packages/leidenalg/VertexPartition.py:388: SyntaxWarning: invalid escape sequence '\\m'\n",
            "  \"\"\" Implements modularity. This quality function is well-defined only for positive edge weights.\n",
            "/home/k/Downloads/.venv/lib/python3.12/site-packages/leidenalg/VertexPartition.py:761: SyntaxWarning: invalid escape sequence '\\m'\n",
            "  \"\"\" Implements Reichardt and Bornholdt's Potts model with a configuration null model.\n",
            "/home/k/Downloads/.venv/lib/python3.12/site-packages/leidenalg/Optimiser.py:7: SyntaxWarning: invalid escape sequence '\\g'\n",
            "  \"\"\" Class for doing community detection using the Leiden algorithm.\n",
            "/home/k/Downloads/.venv/lib/python3.12/site-packages/leidenalg/Optimiser.py:305: SyntaxWarning: invalid escape sequence '\\s'\n",
            "  \"\"\" Optimise the given partitions simultaneously.\n"
          ]
        }
      ]
    }
  ]
}