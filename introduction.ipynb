{
  "nbformat": 4,
  "nbformat_minor": 0,
  "metadata": {
    "colab": {
      "provenance": [],
      "authorship_tag": "ABX9TyP5riGKzFRzRiPy1pEoXFLz",
      "include_colab_link": true
    },
    "kernelspec": {
      "name": "python3",
      "display_name": "Python 3"
    },
    "language_info": {
      "name": "python"
    }
  },
  "cells": [
    {
      "cell_type": "markdown",
      "metadata": {
        "id": "view-in-github",
        "colab_type": "text"
      },
      "source": [
        "<a href=\"https://colab.research.google.com/github/kiron-ang/introduction/blob/main/introduction.ipynb\" target=\"_parent\"><img src=\"https://colab.research.google.com/assets/colab-badge.svg\" alt=\"Open In Colab\"/></a>"
      ]
    },
    {
      "cell_type": "code",
      "execution_count": 1,
      "metadata": {
        "colab": {
          "base_uri": "https://localhost:8080/"
        },
        "id": "iXgo7Ela7guJ",
        "outputId": "2ee66492-9d91-4c11-ba22-d91e5105e2e8"
      },
      "outputs": [
        {
          "output_type": "stream",
          "name": "stdout",
          "text": [
            "  % Total    % Received % Xferd  Average Speed   Time    Time     Time  Current\n",
            "                                 Dload  Upload   Total   Spent    Left  Speed\n",
            "100   166  100   166    0     0   2549      0 --:--:-- --:--:-- --:--:--  2593\n",
            "100   150  100   150    0     0    381      0 --:--:-- --:--:-- --:--:--   381\n",
            "  0     0    0     0    0     0      0      0 --:--:-- --:--:-- --:--:--     0\n",
            "  0     0    0     0    0     0      0      0 --:--:-- --:--:-- --:--:--     0\n",
            "100 4006k  100 4006k    0     0  3382k      0  0:00:01  0:00:01 --:--:-- 3382k\n"
          ]
        }
      ],
      "source": [
        "# Download the research paper\n",
        "!curl -LO www.nature.com/articles/s41467-025-58369-2.pdf"
      ]
    },
    {
      "cell_type": "code",
      "source": [
        "# Install the SRA toolkit\n",
        "!apt install sra-toolkit > output.txt"
      ],
      "metadata": {
        "colab": {
          "base_uri": "https://localhost:8080/"
        },
        "id": "VU3EdkjAYew-",
        "outputId": "e783c413-afdc-4457-c9e0-01354ca0e43d"
      },
      "execution_count": 2,
      "outputs": [
        {
          "output_type": "stream",
          "name": "stdout",
          "text": [
            "\n",
            "WARNING: apt does not have a stable CLI interface. Use with caution in scripts.\n",
            "\n"
          ]
        }
      ]
    },
    {
      "cell_type": "code",
      "source": [
        "# Download accession list for transcriptomic single-cell data\n",
        "!curl -LO raw.githubusercontent.com/kiron-ang/introduction/main/accession.txt"
      ],
      "metadata": {
        "colab": {
          "base_uri": "https://localhost:8080/"
        },
        "id": "mwKY5WYCQ54e",
        "outputId": "3b93b98a-5b52-4bd3-ba76-703c7b40b74d"
      },
      "execution_count": 3,
      "outputs": [
        {
          "output_type": "stream",
          "name": "stdout",
          "text": [
            "  % Total    % Received % Xferd  Average Speed   Time    Time     Time  Current\n",
            "                                 Dload  Upload   Total   Spent    Left  Speed\n",
            "\r  0     0    0     0    0     0      0      0 --:--:-- --:--:-- --:--:--     0\r  0     0    0     0    0     0      0      0 --:--:-- --:--:-- --:--:--     0\n",
            "\r100   791  100   791    0     0   2812      0 --:--:-- --:--:-- --:--:--  2812\n"
          ]
        }
      ]
    },
    {
      "cell_type": "code",
      "source": [
        "# Download raw data with SRA toolkit and accession numbers\n",
        "import subprocess\n",
        "import multiprocessing\n",
        "\n",
        "with open(\"accession.txt\", \"r\") as a:\n",
        "    accession = [line.strip() for line in a]\n",
        "\n",
        "def fasterq_dump(a):\n",
        "    subprocess.run([\"fasterq-dump\", a])\n",
        "\n",
        "with multiprocessing.Pool() as pool:\n",
        "    pool.map(fasterq_dump, accession)"
      ],
      "metadata": {
        "id": "J4KFQu-0WFdr"
      },
      "execution_count": null,
      "outputs": []
    }
  ]
}